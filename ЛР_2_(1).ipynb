{
  "nbformat": 4,
  "nbformat_minor": 0,
  "metadata": {
    "colab": {
      "provenance": []
    },
    "kernelspec": {
      "name": "python3",
      "display_name": "Python 3"
    },
    "language_info": {
      "name": "python"
    }
  },
  "cells": [
    {
      "cell_type": "code",
      "execution_count": null,
      "metadata": {
        "id": "8KQdn4VyHQ1-"
      },
      "outputs": [],
      "source": [
        "#Векторизация\n",
        "import numpy as np\n",
        "a = np.array([1, 2, 3])\n",
        "b = np.array([4, 5, 6])\n",
        "result = a + b #быстрое сложение"
      ]
    },
    {
      "cell_type": "code",
      "source": [
        "#Создание массивов\n",
        "import numpy as np\n",
        "arr = np.array([1, 2, 3, 4])"
      ],
      "metadata": {
        "id": "ncWt3jqrI3bf"
      },
      "execution_count": null,
      "outputs": []
    },
    {
      "cell_type": "code",
      "source": [
        "#Операции с массивами\n",
        "arr1 = np.array([1, 2, 3])\n",
        "arr2 = np.array([4, 5, 6])\n",
        "result = arr1 + arr2 # [5, 7, 9]"
      ],
      "metadata": {
        "id": "BhHLgyITJIHu"
      },
      "execution_count": null,
      "outputs": []
    },
    {
      "cell_type": "code",
      "source": [
        "#Матричные операции\n",
        "matrix1 = np.array([[1, 2], [3, 4]])\n",
        "matrix2 = np.array([[5, 6], [7, 8]])\n",
        "result = np.dot(matrix1, matrix2) # Матричное умножение"
      ],
      "metadata": {
        "id": "Sy0imp9LJQK-"
      },
      "execution_count": null,
      "outputs": []
    },
    {
      "cell_type": "code",
      "source": [
        "#Статические функции\n",
        "data = np.array([1, 2, 3, 4, 5])\n",
        "mean = np.mean(data) # Среднее значение\n",
        "std_dev = np.std(data) # Стандартное отклонение"
      ],
      "metadata": {
        "id": "x7yACYzNJa_3"
      },
      "execution_count": null,
      "outputs": []
    },
    {
      "cell_type": "code",
      "source": [
        "#Поддержка векторизации\n",
        "import numpy as np\n",
        "arr = np.array([1, 2, 3, 4])\n",
        "result = arr * 2 # Быстрое поэлементное умножени"
      ],
      "metadata": {
        "id": "iVR90sL7JmS-"
      },
      "execution_count": null,
      "outputs": []
    },
    {
      "cell_type": "code",
      "source": [
        "#Создание матрицы\n",
        "import numpy as np\n",
        "m = np.matrix('1 2 3 4; 5 6 7 8; 9 1 5 7')\n",
        "print(m)"
      ],
      "metadata": {
        "colab": {
          "base_uri": "https://localhost:8080/"
        },
        "id": "97DBzvzSJ4Qm",
        "outputId": "08148141-8f9e-4e7a-e89f-c5039135e646"
      },
      "execution_count": null,
      "outputs": [
        {
          "output_type": "stream",
          "name": "stdout",
          "text": [
            "[[1 2 3 4]\n",
            " [5 6 7 8]\n",
            " [9 1 5 7]]\n"
          ]
        }
      ]
    },
    {
      "cell_type": "code",
      "source": [
        "#Элемент матрицы с заданнымм координатами\n",
        "import numpy as np\n",
        "m = np.matrix('1 2 3 4; 5 6 7 8; 9 1 5 7')\n",
        "print(m[1,0])"
      ],
      "metadata": {
        "colab": {
          "base_uri": "https://localhost:8080/"
        },
        "id": "KQo8UmhnKMwm",
        "outputId": "47fc6ca1-f074-406a-8535-7793a943141c"
      },
      "execution_count": null,
      "outputs": [
        {
          "output_type": "stream",
          "name": "stdout",
          "text": [
            "5\n"
          ]
        }
      ]
    },
    {
      "cell_type": "code",
      "source": [
        "#Строка массива\n",
        "import numpy as np\n",
        "m = np.matrix('1 2 3 4; 5 6 7 8; 9 1 5 7')\n",
        "print(m[1,:])"
      ],
      "metadata": {
        "colab": {
          "base_uri": "https://localhost:8080/"
        },
        "id": "OfydB3DhKrU2",
        "outputId": "fc929d5c-d7fd-46fb-f627-9ef7f4b9f787"
      },
      "execution_count": null,
      "outputs": [
        {
          "output_type": "stream",
          "name": "stdout",
          "text": [
            "[[5 6 7 8]]\n"
          ]
        }
      ]
    },
    {
      "cell_type": "code",
      "source": [
        "#Столбец массива\n",
        "import numpy as np\n",
        "m = np.matrix('1 2 3 4; 5 6 7 8; 9 1 5 7')\n",
        "print(m[:,3])"
      ],
      "metadata": {
        "colab": {
          "base_uri": "https://localhost:8080/"
        },
        "id": "dWsweUWVK4Su",
        "outputId": "cfc1900d-eef1-4012-a92a-1af0d38c7772"
      },
      "execution_count": null,
      "outputs": [
        {
          "output_type": "stream",
          "name": "stdout",
          "text": [
            "[[4]\n",
            " [8]\n",
            " [7]]\n"
          ]
        }
      ]
    },
    {
      "cell_type": "code",
      "source": [
        "#Часть строки массива\n",
        "import numpy as np\n",
        "m = np.matrix('1 2 3 4; 5 6 7 8; 9 1 5 7')\n",
        "print(m[1,2:])"
      ],
      "metadata": {
        "colab": {
          "base_uri": "https://localhost:8080/"
        },
        "id": "miK7t4DhLEKN",
        "outputId": "8c765091-0222-4e03-a4fe-3f10472ae923"
      },
      "execution_count": null,
      "outputs": [
        {
          "output_type": "stream",
          "name": "stdout",
          "text": [
            "[[7 8]]\n"
          ]
        }
      ]
    },
    {
      "cell_type": "code",
      "source": [
        "#Часть столбца массива\n",
        "import numpy as np\n",
        "m = np.matrix('1 2 3 4; 5 6 7 8; 9 1 5 7')\n",
        "print(m[0:2,1])"
      ],
      "metadata": {
        "colab": {
          "base_uri": "https://localhost:8080/"
        },
        "id": "hMogI4fsLN7l",
        "outputId": "ebd709fe-acba-46d2-9bc7-eb24c650f6fc"
      },
      "execution_count": null,
      "outputs": [
        {
          "output_type": "stream",
          "name": "stdout",
          "text": [
            "[[2]\n",
            " [6]]\n"
          ]
        }
      ]
    },
    {
      "cell_type": "code",
      "source": [
        "#Непрерывная часть массива\n",
        "import numpy as np\n",
        "m = np.matrix('1 2 3 4; 5 6 7 8; 9 1 5 7')\n",
        "print(m[0:2,1:3])"
      ],
      "metadata": {
        "colab": {
          "base_uri": "https://localhost:8080/"
        },
        "id": "dslOdHr-LYMF",
        "outputId": "74177d15-6832-404a-a521-dfdea8f7455f"
      },
      "execution_count": null,
      "outputs": [
        {
          "output_type": "stream",
          "name": "stdout",
          "text": [
            "[[2 3]\n",
            " [6 7]]\n"
          ]
        }
      ]
    },
    {
      "cell_type": "code",
      "source": [
        "#Произвольные столбцы и строки массива\n",
        "import numpy as np\n",
        "m = np.matrix('1 2 3 4; 5 6 7 8; 9 1 5 7')\n",
        "cols=[0,1,3]\n",
        "print(m[:,cols])"
      ],
      "metadata": {
        "colab": {
          "base_uri": "https://localhost:8080/"
        },
        "id": "kC1hJC66Ljqs",
        "outputId": "8b5ca23b-4644-433d-fb4e-9ec26396603c"
      },
      "execution_count": null,
      "outputs": [
        {
          "output_type": "stream",
          "name": "stdout",
          "text": [
            "[[1 2 4]\n",
            " [5 6 8]\n",
            " [9 1 7]]\n"
          ]
        }
      ]
    },
    {
      "cell_type": "code",
      "source": [
        "#Расчет статистик по данным в массиве\n",
        "m = np.matrix('1 2 3 4; 5 6 7 8; 9 1 5 7')\n",
        "m.shape"
      ],
      "metadata": {
        "colab": {
          "base_uri": "https://localhost:8080/"
        },
        "id": "q8XGn0iAL0Qt",
        "outputId": "28b2a42b-43f4-42cd-a7cd-a2adb2e007fd"
      },
      "execution_count": null,
      "outputs": [
        {
          "output_type": "execute_result",
          "data": {
            "text/plain": [
              "(3, 4)"
            ]
          },
          "metadata": {},
          "execution_count": 67
        }
      ]
    },
    {
      "cell_type": "code",
      "source": [
        "#Использование boolean массива для доступа к ndarray\n",
        "nums = np.array([1, 2, 3, 4, 5, 6, 7, 8, 9, 10])\n",
        "letters = np.array(['a', 'b', 'c', 'd', 'a', 'e', 'b'])\n",
        "a = True\n",
        "b = 5 > 7\n",
        "print(b)"
      ],
      "metadata": {
        "colab": {
          "base_uri": "https://localhost:8080/"
        },
        "id": "Y_fRXriGPcE_",
        "outputId": "63a4a9cf-a78e-4661-8548-04a1627bddc5"
      },
      "execution_count": null,
      "outputs": [
        {
          "output_type": "stream",
          "name": "stdout",
          "text": [
            "False\n"
          ]
        }
      ]
    },
    {
      "cell_type": "code",
      "source": [
        "#Использование boolean массива для доступа к ndarray\n",
        "nums = np.array([1, 2, 3, 4, 5, 6, 7, 8, 9, 10])\n",
        "letters = np.array(['a', 'b', 'c', 'd', 'a', 'e', 'b'])\n",
        "less_then_5 = nums < 5\n",
        "less_then_5"
      ],
      "metadata": {
        "colab": {
          "base_uri": "https://localhost:8080/"
        },
        "id": "mXWSTsDJQAGc",
        "outputId": "fbf7c471-5284-48e8-a01a-79fe7fdd12d7"
      },
      "execution_count": null,
      "outputs": [
        {
          "output_type": "execute_result",
          "data": {
            "text/plain": [
              "array([ True,  True,  True,  True, False, False, False, False, False,\n",
              "       False])"
            ]
          },
          "metadata": {},
          "execution_count": 73
        }
      ]
    },
    {
      "cell_type": "code",
      "source": [
        "#np.arange()\n",
        "np.arange(1, 5, 0.5)"
      ],
      "metadata": {
        "colab": {
          "base_uri": "https://localhost:8080/"
        },
        "id": "YDdrJP-VQSzb",
        "outputId": "267be334-c243-4a2a-92ca-0746bfc4037a"
      },
      "execution_count": null,
      "outputs": [
        {
          "output_type": "execute_result",
          "data": {
            "text/plain": [
              "array([1. , 1.5, 2. , 2.5, 3. , 3.5, 4. , 4.5])"
            ]
          },
          "metadata": {},
          "execution_count": 77
        }
      ]
    },
    {
      "cell_type": "code",
      "source": [
        "np.arange(10)\n"
      ],
      "metadata": {
        "colab": {
          "base_uri": "https://localhost:8080/"
        },
        "id": "aQCnTtBSQnYD",
        "outputId": "33bfacf6-9761-4037-8e47-7f8e63623304"
      },
      "execution_count": null,
      "outputs": [
        {
          "output_type": "execute_result",
          "data": {
            "text/plain": [
              "array([0, 1, 2, 3, 4, 5, 6, 7, 8, 9])"
            ]
          },
          "metadata": {},
          "execution_count": 78
        }
      ]
    },
    {
      "cell_type": "code",
      "source": [
        "np.arange(6,20)"
      ],
      "metadata": {
        "colab": {
          "base_uri": "https://localhost:8080/"
        },
        "id": "w2AT1EubQpor",
        "outputId": "bc3a6710-0af6-4ddf-9a5a-6fc04e0077bf"
      },
      "execution_count": null,
      "outputs": [
        {
          "output_type": "execute_result",
          "data": {
            "text/plain": [
              "array([ 6,  7,  8,  9, 10, 11, 12, 13, 14, 15, 16, 17, 18, 19])"
            ]
          },
          "metadata": {},
          "execution_count": 80
        }
      ]
    },
    {
      "cell_type": "code",
      "source": [
        "#np.matrix\n",
        "a = [[1, 2], [3, 4]]\n",
        "np.matrix(a)"
      ],
      "metadata": {
        "colab": {
          "base_uri": "https://localhost:8080/"
        },
        "id": "2PQbfo-HQwal",
        "outputId": "bbf6c44b-a196-4420-c1b4-17be863e92ae"
      },
      "execution_count": null,
      "outputs": [
        {
          "output_type": "execute_result",
          "data": {
            "text/plain": [
              "matrix([[1, 2],\n",
              "        [3, 4]])"
            ]
          },
          "metadata": {},
          "execution_count": 83
        }
      ]
    },
    {
      "cell_type": "code",
      "source": [
        "#np.zeros(), np.eye()\n",
        "np.zeros((3, 4))"
      ],
      "metadata": {
        "colab": {
          "base_uri": "https://localhost:8080/"
        },
        "id": "4sHjIGAGQ6HS",
        "outputId": "27835156-eebf-41a5-f445-df6ac5bad091"
      },
      "execution_count": null,
      "outputs": [
        {
          "output_type": "execute_result",
          "data": {
            "text/plain": [
              "array([[0., 0., 0., 0.],\n",
              "       [0., 0., 0., 0.],\n",
              "       [0., 0., 0., 0.]])"
            ]
          },
          "metadata": {},
          "execution_count": 85
        }
      ]
    },
    {
      "cell_type": "code",
      "source": [
        "np.eye(4)"
      ],
      "metadata": {
        "colab": {
          "base_uri": "https://localhost:8080/"
        },
        "id": "ghMQ_45TRHRz",
        "outputId": "dac38f49-dc5b-4477-934c-9f8fc9fe50a5"
      },
      "execution_count": null,
      "outputs": [
        {
          "output_type": "execute_result",
          "data": {
            "text/plain": [
              "array([[1., 0., 0., 0.],\n",
              "       [0., 1., 0., 0.],\n",
              "       [0., 0., 1., 0.],\n",
              "       [0., 0., 0., 1.]])"
            ]
          },
          "metadata": {},
          "execution_count": 87
        }
      ]
    },
    {
      "cell_type": "code",
      "source": [
        "#np.ravel()\n",
        "np.ravel(A,order='F')"
      ],
      "metadata": {
        "colab": {
          "base_uri": "https://localhost:8080/"
        },
        "id": "YEGEjE2aRMB7",
        "outputId": "f94524c9-fa19-4cc4-c86b-515f78c2d809"
      },
      "execution_count": null,
      "outputs": [
        {
          "output_type": "execute_result",
          "data": {
            "text/plain": [
              "array([1, 4, 7, 2, 5, 8, 3, 6, 9])"
            ]
          },
          "metadata": {},
          "execution_count": 92
        }
      ]
    },
    {
      "cell_type": "code",
      "source": [
        "#np.random()\n",
        "a = np.random.rand(10)\n",
        "a"
      ],
      "metadata": {
        "colab": {
          "base_uri": "https://localhost:8080/"
        },
        "id": "UjanRhKgRxej",
        "outputId": "b15d1baf-b2d8-45ab-8ebd-a862ac2578c2"
      },
      "execution_count": null,
      "outputs": [
        {
          "output_type": "execute_result",
          "data": {
            "text/plain": [
              "array([0.3590862 , 0.57599732, 0.37594434, 0.42317349, 0.91038402,\n",
              "       0.92238252, 0.54318537, 0.18100887, 0.26194715, 0.58904987])"
            ]
          },
          "metadata": {},
          "execution_count": 97
        }
      ]
    },
    {
      "cell_type": "code",
      "source": [
        "#np.where()\n",
        "a = np.array([0, 1, 2, 3, 4, 5, 6, 7, 8, 9])\n",
        "np.where(a % 2 == 0, a * 10, a / 10)"
      ],
      "metadata": {
        "colab": {
          "base_uri": "https://localhost:8080/"
        },
        "id": "NWAmYYlXRki_",
        "outputId": "70ca7c0a-0ab8-4876-f5b7-c9708768f4f6"
      },
      "execution_count": null,
      "outputs": [
        {
          "output_type": "execute_result",
          "data": {
            "text/plain": [
              "array([ 0. ,  0.1, 20. ,  0.3, 40. ,  0.5, 60. ,  0.7, 80. ,  0.9])"
            ]
          },
          "metadata": {},
          "execution_count": 98
        }
      ]
    },
    {
      "cell_type": "code",
      "source": [
        "np.where(a > 0.5, True, False)\n"
      ],
      "metadata": {
        "colab": {
          "base_uri": "https://localhost:8080/"
        },
        "id": "WjWUuwuWSBPO",
        "outputId": "d1a0594b-52e2-4357-cb8c-177ae8f8f347"
      },
      "execution_count": null,
      "outputs": [
        {
          "output_type": "execute_result",
          "data": {
            "text/plain": [
              "array([False,  True,  True,  True,  True,  True,  True,  True,  True,\n",
              "        True])"
            ]
          },
          "metadata": {},
          "execution_count": 99
        }
      ]
    },
    {
      "cell_type": "code",
      "source": [
        "np.where(a > 0.5, 1, -1)"
      ],
      "metadata": {
        "colab": {
          "base_uri": "https://localhost:8080/"
        },
        "id": "P6ba17WMSKuj",
        "outputId": "54a8076f-a1da-433d-a477-abfbf8d5e8a0"
      },
      "execution_count": null,
      "outputs": [
        {
          "output_type": "execute_result",
          "data": {
            "text/plain": [
              "array([-1,  1,  1,  1,  1,  1,  1,  1,  1,  1])"
            ]
          },
          "metadata": {},
          "execution_count": 100
        }
      ]
    },
    {
      "cell_type": "code",
      "source": [
        "#np.meshgrid()\n",
        "x = np.linspace(0, 1, 5)\n",
        "y = np.linspace(0, 2, 5)\n",
        "xg, yg = np.meshgrid(x, y)\n",
        "import matplotlib.pyplot as plt\n",
        "%matplotlib inline\n",
        "plt.plot(xg, yg, color=\"r\", marker=\"*\", linestyle=\"none\")"
      ],
      "metadata": {
        "colab": {
          "base_uri": "https://localhost:8080/",
          "height": 517
        },
        "id": "Qkcmx6baSMtr",
        "outputId": "de822f9b-a474-4424-90ea-270b9d1073f7"
      },
      "execution_count": null,
      "outputs": [
        {
          "output_type": "execute_result",
          "data": {
            "text/plain": [
              "[<matplotlib.lines.Line2D at 0x7dd98e734e50>,\n",
              " <matplotlib.lines.Line2D at 0x7dd9c4320050>,\n",
              " <matplotlib.lines.Line2D at 0x7dd98ea4f0d0>,\n",
              " <matplotlib.lines.Line2D at 0x7dd9c40fc650>,\n",
              " <matplotlib.lines.Line2D at 0x7dd98c347590>]"
            ]
          },
          "metadata": {},
          "execution_count": 107
        },
        {
          "output_type": "display_data",
          "data": {
            "text/plain": [
              "<Figure size 640x480 with 1 Axes>"
            ],
            "image/png": "[encoded data removed]"
          },
          "metadata": {}
        }
      ]
    },
    {
      "cell_type": "code",
      "source": [
        "#np.random.permutation()\n",
        "a = ['a', 'b', 'c', 'd', 'e']\n",
        "np.random.permutation(a)\n",
        "arr_mix = np.random.permutation(arr)\n",
        "arr_mix"
      ],
      "metadata": {
        "id": "ok-GldZjStm6",
        "colab": {
          "base_uri": "https://localhost:8080/"
        },
        "outputId": "70a5d9f9-48a3-40df-df4a-0f873c1756a0"
      },
      "execution_count": null,
      "outputs": [
        {
          "output_type": "execute_result",
          "data": {
            "text/plain": [
              "array(['c', 'a', 'b', 'e', 'd'], dtype='<U1')"
            ]
          },
          "metadata": {},
          "execution_count": 30
        }
      ]
    },
    {
      "cell_type": "code",
      "source": [
        "#вектор-строка\n",
        "v_hor_np = np.array([1, 2])\n",
        "print(v_hor_np )"
      ],
      "metadata": {
        "colab": {
          "base_uri": "https://localhost:8080/"
        },
        "id": "g8T0Ll_vXxXP",
        "outputId": "72d25a92-6cd5-4e5f-d99b-59ead455c9fc"
      },
      "execution_count": null,
      "outputs": [
        {
          "output_type": "stream",
          "name": "stdout",
          "text": [
            "[1 2]\n"
          ]
        }
      ]
    },
    {
      "cell_type": "code",
      "source": [
        "#вектор-столбец\n",
        "v_vert_np = np.array([[1], [2]])\n",
        "print(v_vert_np)"
      ],
      "metadata": {
        "colab": {
          "base_uri": "https://localhost:8080/"
        },
        "id": "TPP7-mykX3Ak",
        "outputId": "47aead43-6536-4809-f803-e91f7985872a"
      },
      "execution_count": null,
      "outputs": [
        {
          "output_type": "stream",
          "name": "stdout",
          "text": [
            "[[1]\n",
            " [2]]\n"
          ]
        }
      ]
    },
    {
      "cell_type": "code",
      "source": [
        "#квадратная матрица\n",
        "m_sqr_arr = np.array([[1, 2, 3], [4, 5, 6], [7, 8, 9]])\n",
        "print(m_sqr_arr)"
      ],
      "metadata": {
        "colab": {
          "base_uri": "https://localhost:8080/"
        },
        "id": "okJVEuXIX_t2",
        "outputId": "91555579-4776-40d4-a572-d8472dcc054f"
      },
      "execution_count": null,
      "outputs": [
        {
          "output_type": "stream",
          "name": "stdout",
          "text": [
            "[[1 2 3]\n",
            " [4 5 6]\n",
            " [7 8 9]]\n"
          ]
        }
      ]
    },
    {
      "cell_type": "code",
      "source": [
        "#Диагональная матрица\n",
        "m_diag = [[1, 0, 0], [0, 5, 0], [0, 0, 9]]\n",
        "m_diag_np = np.matrix(m_diag)\n",
        "print(m_diag_np)"
      ],
      "metadata": {
        "colab": {
          "base_uri": "https://localhost:8080/"
        },
        "id": "898SLNbCYLax",
        "outputId": "c459dec7-fdd5-4378-8dfc-efd46d47d03f"
      },
      "execution_count": null,
      "outputs": [
        {
          "output_type": "stream",
          "name": "stdout",
          "text": [
            "[[1 0 0]\n",
            " [0 5 0]\n",
            " [0 0 9]]\n"
          ]
        }
      ]
    },
    {
      "cell_type": "code",
      "source": [
        "#Единичная матрица\n",
        "m_e = [[1, 0, 0], [0, 1, 0], [0, 0, 1]]\n",
        "m_e_np = np.matrix(m_e)\n",
        "print(m_e_np)"
      ],
      "metadata": {
        "colab": {
          "base_uri": "https://localhost:8080/"
        },
        "id": "kHIs_-wlZdwQ",
        "outputId": "e6041d7e-f465-4aa2-edcc-862bb9d3f0db"
      },
      "execution_count": null,
      "outputs": [
        {
          "output_type": "stream",
          "name": "stdout",
          "text": [
            "[[1 0 0]\n",
            " [0 1 0]\n",
            " [0 0 1]]\n"
          ]
        }
      ]
    },
    {
      "cell_type": "code",
      "source": [
        "#Нулевая матрица\n",
        "m_zeros = np.zeros((3, 3))\n",
        "print(m_zeros)"
      ],
      "metadata": {
        "colab": {
          "base_uri": "https://localhost:8080/"
        },
        "id": "sl6bGoPaZmAC",
        "outputId": "acda82b1-6d10-42c4-f7f3-a8d7289468a2"
      },
      "execution_count": null,
      "outputs": [
        {
          "output_type": "stream",
          "name": "stdout",
          "text": [
            "[[0. 0. 0.]\n",
            " [0. 0. 0.]\n",
            " [0. 0. 0.]]\n"
          ]
        }
      ]
    },
    {
      "cell_type": "code",
      "source": [
        "#Задание матрицы в общем виде\n",
        "m_mx = np.matrix('1 2 3; 4 5 6')\n",
        "print(m_mx)"
      ],
      "metadata": {
        "colab": {
          "base_uri": "https://localhost:8080/"
        },
        "id": "fCJCl7LUZyeL",
        "outputId": "0ab5ac07-7484-4411-c93b-cb4fee498552"
      },
      "execution_count": null,
      "outputs": [
        {
          "output_type": "stream",
          "name": "stdout",
          "text": [
            "[[1 2 3]\n",
            " [4 5 6]]\n"
          ]
        }
      ]
    },
    {
      "cell_type": "code",
      "source": [
        "#Транспонирование матрицы\n",
        "A = np.matrix('1 2 3; 4 5 6')\n",
        "print(A)"
      ],
      "metadata": {
        "colab": {
          "base_uri": "https://localhost:8080/"
        },
        "id": "qBu-VCdnaIfA",
        "outputId": "604b4ff8-bb47-4367-c687-f2043c415f30"
      },
      "execution_count": null,
      "outputs": [
        {
          "output_type": "stream",
          "name": "stdout",
          "text": [
            "[[1 2 3]\n",
            " [4 5 6]]\n"
          ]
        }
      ]
    },
    {
      "cell_type": "code",
      "source": [
        "#Транспонирование суммы матриц равно сумме транспонированных матриц\n",
        "A = np.matrix('1 2 3; 4 5 6')\n",
        "B = np.matrix('7 8 9; 0 7 5')\n",
        "L = (A + B).T\n",
        "R = A.T + B.T\n",
        "print(L)\n",
        "print(R)"
      ],
      "metadata": {
        "colab": {
          "base_uri": "https://localhost:8080/"
        },
        "id": "84LYaI9-aZay",
        "outputId": "da79987e-a036-4ada-cbc6-a26ec2bf0a06"
      },
      "execution_count": null,
      "outputs": [
        {
          "output_type": "stream",
          "name": "stdout",
          "text": [
            "[[ 8  4]\n",
            " [10 12]\n",
            " [12 11]]\n",
            "[[ 8  4]\n",
            " [10 12]\n",
            " [12 11]]\n"
          ]
        }
      ]
    },
    {
      "cell_type": "code",
      "source": [
        "#Умножение матрицы на число\n",
        "A = np.matrix('1 2 3; 4 5 6')\n",
        "C = 3 * A\n",
        "print(C)"
      ],
      "metadata": {
        "colab": {
          "base_uri": "https://localhost:8080/"
        },
        "id": "kUcYInNxazaF",
        "outputId": "690c1043-1ef9-49a2-ab7a-08cdbc1fb85d"
      },
      "execution_count": null,
      "outputs": [
        {
          "output_type": "stream",
          "name": "stdout",
          "text": [
            "[[ 3  6  9]\n",
            " [12 15 18]]\n"
          ]
        }
      ]
    },
    {
      "cell_type": "code",
      "source": [
        "#Произведение заданной матрицы на единичную равно исходной матрице\n",
        "A = np.matrix('1 2; 3 4')\n",
        "E = np.matrix('1 0; 0 1')\n",
        "L = E.dot(A)\n",
        "R = A.dot(E)\n",
        "print(L)\n",
        "print(R)\n",
        "print(A)"
      ],
      "metadata": {
        "colab": {
          "base_uri": "https://localhost:8080/"
        },
        "id": "kq7rwOYBa9rj",
        "outputId": "6c0c75e3-e667-46c5-e7fe-063d777798a3"
      },
      "execution_count": null,
      "outputs": [
        {
          "output_type": "stream",
          "name": "stdout",
          "text": [
            "[[1 2]\n",
            " [3 4]]\n",
            "[[1 2]\n",
            " [3 4]]\n",
            "[[1 2]\n",
            " [3 4]]\n"
          ]
        }
      ]
    },
    {
      "cell_type": "code",
      "source": [
        "#Обратная матрица\n",
        "A = np.matrix('1 -3; 2 5')\n",
        "A_inv = np.linalg.inv(A)\n",
        "print(A_inv)"
      ],
      "metadata": {
        "colab": {
          "base_uri": "https://localhost:8080/"
        },
        "id": "ZjodWK8SbmK4",
        "outputId": "bfe8438c-6d8d-4a83-b6e9-98359f6c3aa5"
      },
      "execution_count": null,
      "outputs": [
        {
          "output_type": "stream",
          "name": "stdout",
          "text": [
            "[[ 0.45454545  0.27272727]\n",
            " [-0.18181818  0.09090909]]\n"
          ]
        }
      ]
    },
    {
      "cell_type": "code",
      "source": [
        "#Ранг матрицы\n",
        "m_eye = np.eye(4)\n",
        "print(m_eye)"
      ],
      "metadata": {
        "colab": {
          "base_uri": "https://localhost:8080/"
        },
        "id": "CKtIiwflbrfw",
        "outputId": "250d3eb4-94bc-44df-8a0f-6864b1928978"
      },
      "execution_count": null,
      "outputs": [
        {
          "output_type": "stream",
          "name": "stdout",
          "text": [
            "[[1. 0. 0. 0.]\n",
            " [0. 1. 0. 0.]\n",
            " [0. 0. 1. 0.]\n",
            " [0. 0. 0. 1.]]\n"
          ]
        }
      ]
    },
    {
      "cell_type": "code",
      "source": [
        "#Задание 1\n",
        "import numpy as np\n",
        "arr = np.arange(1, 10).reshape((3, 3))\n",
        "print(\"Исходный массив:\")\n",
        "print(arr)\n",
        "arr *= 2\n",
        "print(\"\\nУмноженный массив:\")\n",
        "print(arr)\n",
        "arr[arr > 10] = 0\n",
        "print(\"\\nИтоговый массив:\")\n",
        "print(arr)\n"
      ],
      "metadata": {
        "colab": {
          "base_uri": "https://localhost:8080/"
        },
        "id": "3Vius58nhKfG",
        "outputId": "49c79919-cd8c-4c51-9500-2520e52ddd63"
      },
      "execution_count": null,
      "outputs": [
        {
          "output_type": "stream",
          "name": "stdout",
          "text": [
            "Исходный массив:\n",
            "[[1 2 3]\n",
            " [4 5 6]\n",
            " [7 8 9]]\n",
            "\n",
            "Умноженный массив:\n",
            "[[ 2  4  6]\n",
            " [ 8 10 12]\n",
            " [14 16 18]]\n",
            "\n",
            "Итоговый массив:\n",
            "[[ 2  4  6]\n",
            " [ 8 10  0]\n",
            " [ 0  0  0]]\n"
          ]
        }
      ]
    },
    {
      "cell_type": "code",
      "source": [
        "#Задание 2\n",
        "import numpy as np\n",
        "a = np.random.randint(1, 101, size=20)\n",
        "print(\"Полученный массив\\n\", a)\n",
        "delenie = a[a % 5== 0]\n",
        "print(\"Числа,делящиеся на 5\\n\",delenie)\n",
        "a[a % 5 == 0] = -1\n",
        "print(\"Обновленный массив\\n\",a)\n"
      ],
      "metadata": {
        "colab": {
          "base_uri": "https://localhost:8080/"
        },
        "id": "hykC_FmJqiF7",
        "outputId": "f27607af-77d3-4538-9969-d950d2796fed"
      },
      "execution_count": null,
      "outputs": [
        {
          "output_type": "stream",
          "name": "stdout",
          "text": [
            "Полученный массив\n",
            " [37 22 51 80  8 53 55 15 22 18 26 66 50 99  4 19 94 10 35  4]\n",
            "Числа,делящиеся на 5\n",
            " [80 55 15 50 10 35]\n",
            "Обновленный массив\n",
            " [37 22 51 -1  8 53 -1 -1 22 18 26 66 -1 99  4 19 94 -1 -1  4]\n"
          ]
        }
      ]
    },
    {
      "cell_type": "code",
      "source": [
        "#Задание 3\n",
        "import numpy as np\n",
        "a = np.random.randint(0, 51, size=(1, 5))\n",
        "a1 = np.random.randint(0, 51, size=(1, 5))\n",
        "summa = np.concatenate((a, a1))\n",
        "pazd = np.split(summa, 2)\n",
        "print(\"Первый массив:\", a)\n",
        "print(\"Второй массив:\", a1)\n",
        "print(\"Объединённый массив:\\n\", summa)\n",
        "print(\"Разделённые массивы:\")\n",
        "for i, arr in enumerate(pazd):\n",
        "    print(f\"Массив {i+1}:\", a)\n"
      ],
      "metadata": {
        "colab": {
          "base_uri": "https://localhost:8080/"
        },
        "id": "4_uTLvvnuA-z",
        "outputId": "5f04c303-5084-4b4d-f38a-f48bf0bca8a4"
      },
      "execution_count": null,
      "outputs": [
        {
          "output_type": "stream",
          "name": "stdout",
          "text": [
            "Первый массив: [[28 50 48 43 32]]\n",
            "Второй массив: [[18 47 31 48 29]]\n",
            "Объединённый массив:\n",
            " [[28 50 48 43 32]\n",
            " [18 47 31 48 29]]\n",
            "Разделённые массивы:\n",
            "Массив 1: [[28 50 48 43 32]]\n",
            "Массив 2: [[28 50 48 43 32]]\n"
          ]
        }
      ]
    },
    {
      "cell_type": "code",
      "source": [
        "#Задание 4\n",
        "import numpy as np\n",
        "a = np.linspace(-10, 10, 50)\n",
        "print('Полученный массив:\\n',a)\n",
        "sum_all = a.sum()\n",
        "positive_elements = a[a > 0]\n",
        "negative_elements = a[a < 0]\n",
        "sum_positive = positive_elements.sum()\n",
        "sum_negative = negative_elements.sum()\n",
        "\n",
        "print(\"Сумма всех элементов:\", sum_all)\n",
        "print(\"Сумма положительных элементов:\", sum_positive)\n",
        "print(\"Сумма отрицательных элементов:\", sum_negative)\n"
      ],
      "metadata": {
        "colab": {
          "base_uri": "https://localhost:8080/"
        },
        "id": "8V5t5Xfr6th6",
        "outputId": "11a9daec-71f3-42c5-91f1-9b75f28cee1f"
      },
      "execution_count": 1,
      "outputs": [
        {
          "output_type": "stream",
          "name": "stdout",
          "text": [
            "Полученный массив:\n",
            " [-10.          -9.59183673  -9.18367347  -8.7755102   -8.36734694\n",
            "  -7.95918367  -7.55102041  -7.14285714  -6.73469388  -6.32653061\n",
            "  -5.91836735  -5.51020408  -5.10204082  -4.69387755  -4.28571429\n",
            "  -3.87755102  -3.46938776  -3.06122449  -2.65306122  -2.24489796\n",
            "  -1.83673469  -1.42857143  -1.02040816  -0.6122449   -0.20408163\n",
            "   0.20408163   0.6122449    1.02040816   1.42857143   1.83673469\n",
            "   2.24489796   2.65306122   3.06122449   3.46938776   3.87755102\n",
            "   4.28571429   4.69387755   5.10204082   5.51020408   5.91836735\n",
            "   6.32653061   6.73469388   7.14285714   7.55102041   7.95918367\n",
            "   8.36734694   8.7755102    9.18367347   9.59183673  10.        ]\n",
            "Сумма всех элементов: 7.105427357601002e-15\n",
            "Сумма положительных элементов: 127.55102040816328\n",
            "Сумма отрицательных элементов: -127.55102040816327\n"
          ]
        }
      ]
    },
    {
      "cell_type": "code",
      "source": [
        "#Задание 5\n",
        "import numpy as np\n",
        "a = np.eye(4)\n",
        "b = np.diag([5, 10, 15, 20])\n",
        "sumA = a.sum()\n",
        "sumB = b.sum()\n",
        "print(\"Единичная матрица:\\n\", a)\n",
        "print(\"\\nДиагональная матрица:\\n\", b)\n",
        "print(\"\\nСумма элементов единичной матрицы:\", sumA)\n",
        "print(\"Сумма элементов диагональной матрицы:\", sumB)\n",
        "if sumA > sumB:\n",
        "    print(\"Сумма элементов единичной матрицы больше.\")\n",
        "elif sumA < sumB:\n",
        "    print(\"Сумма элементов диагональной матрицы больше.\")\n",
        "else:\n",
        "    print(\"Суммы совпадают.\")\n"
      ],
      "metadata": {
        "colab": {
          "base_uri": "https://localhost:8080/"
        },
        "id": "V0RveC5W1Bk1",
        "outputId": "432b598c-0cf8-4b55-a587-95f6e5e5d30f"
      },
      "execution_count": 5,
      "outputs": [
        {
          "output_type": "stream",
          "name": "stdout",
          "text": [
            "Единичная матрица:\n",
            " [[1. 0. 0. 0.]\n",
            " [0. 1. 0. 0.]\n",
            " [0. 0. 1. 0.]\n",
            " [0. 0. 0. 1.]]\n",
            "\n",
            "Диагональная матрица:\n",
            " [[ 5  0  0  0]\n",
            " [ 0 10  0  0]\n",
            " [ 0  0 15  0]\n",
            " [ 0  0  0 20]]\n",
            "\n",
            "Сумма элементов единичной матрицы: 4.0\n",
            "Сумма элементов диагональной матрицы: 50\n",
            "Сумма элементов диагональной матрицы больше.\n"
          ]
        }
      ]
    },
    {
      "cell_type": "code",
      "source": [
        "#Задание 6\n",
        "import numpy as np\n",
        "a = np.random.randint(1, 21, size=(3, 3))\n",
        "b = np.random.randint(1, 21, size=(3, 3))\n",
        "print(\"Матрица A:\\n\", a)\n",
        "print(\"\\nМатрица B:\\n\", b)\n",
        "s = a + b\n",
        "print(\"\\nСумма матриц:\\n\", s)\n",
        "d = a - b\n",
        "print(\"\\nРазность матриц:\\n\", d)\n",
        "p = a * b\n",
        "print(\"\\nПоэлементное произведение матриц:\\n\", p)\n"
      ],
      "metadata": {
        "colab": {
          "base_uri": "https://localhost:8080/"
        },
        "id": "gb8iCna11qaZ",
        "outputId": "6830b642-6042-4a43-91ae-84d46467e85a"
      },
      "execution_count": 7,
      "outputs": [
        {
          "output_type": "stream",
          "name": "stdout",
          "text": [
            "Матрица A:\n",
            " [[ 5  7 15]\n",
            " [ 6  9 15]\n",
            " [14 20  3]]\n",
            "\n",
            "Матрица B:\n",
            " [[12 16  4]\n",
            " [ 3  8 14]\n",
            " [14  6  6]]\n",
            "\n",
            "Сумма матриц:\n",
            " [[17 23 19]\n",
            " [ 9 17 29]\n",
            " [28 26  9]]\n",
            "\n",
            "Разность матриц:\n",
            " [[-7 -9 11]\n",
            " [ 3  1  1]\n",
            " [ 0 14 -3]]\n",
            "\n",
            "Поэлементное произведение матриц:\n",
            " [[ 60 112  60]\n",
            " [ 18  72 210]\n",
            " [196 120  18]]\n"
          ]
        }
      ]
    },
    {
      "cell_type": "code",
      "source": [
        "#Задание 7\n",
        "import numpy as np\n",
        "A = np.random.randint(1, 11, size=(2, 3))\n",
        "B = np.random.randint(1, 11, size=(3, 2))\n",
        "result = np.dot(A, B)\n",
        "print(\"Первая матрица (2x3):\\n\", A)\n",
        "print(\"\\nВторая матрица (3x2):\\n\", B)\n",
        "print(\"\\nРезультат матричного умножения (2x2):\\n\", result)"
      ],
      "metadata": {
        "colab": {
          "base_uri": "https://localhost:8080/"
        },
        "id": "Q-Tj2-cD5oOr",
        "outputId": "70e93539-30a2-4121-9ee1-ebed64e45218"
      },
      "execution_count": 9,
      "outputs": [
        {
          "output_type": "stream",
          "name": "stdout",
          "text": [
            "Первая матрица (2x3):\n",
            " [[7 8 8]\n",
            " [8 2 5]]\n",
            "\n",
            "Вторая матрица (3x2):\n",
            " [[ 5  8]\n",
            " [ 4  5]\n",
            " [ 8 10]]\n",
            "\n",
            "Результат матричного умножения (2x2):\n",
            " [[131 176]\n",
            " [ 88 124]]\n"
          ]
        }
      ]
    },
    {
      "cell_type": "code",
      "source": [
        "#Задание 8\n",
        "import numpy as np\n",
        "a = np.random.randint(1, 11, size=(3, 3))\n",
        "det = np.linalg.det(a)\n",
        "print(\"Исходная матрица:\")\n",
        "print(a)\n",
        "print(f\"\\nОпределитель матрицы: {det:.2f}\")\n",
        "if abs(det) > 1e-10:\n",
        "    i = np.linalg.inv(a)\n",
        "    print(\"\\nОбратная матрица:\")\n",
        "    print(i)\n",
        "else:\n",
        "    print(\"\\nМатрица вырождена, обратной матрицы не существует.\")\n"
      ],
      "metadata": {
        "colab": {
          "base_uri": "https://localhost:8080/"
        },
        "id": "Ydj9SUyu6t2A",
        "outputId": "f2abc206-c66c-4eb9-cc40-4bbbb600faa9"
      },
      "execution_count": 12,
      "outputs": [
        {
          "output_type": "stream",
          "name": "stdout",
          "text": [
            "Исходная матрица:\n",
            "[[5 2 1]\n",
            " [1 8 4]\n",
            " [1 4 6]]\n",
            "\n",
            "Определитель матрицы: 152.00\n",
            "\n",
            "Обратная матрица:\n",
            "[[ 2.10526316e-01 -5.26315789e-02 -5.55111512e-18]\n",
            " [-1.31578947e-02  1.90789474e-01 -1.25000000e-01]\n",
            " [-2.63157895e-02 -1.18421053e-01  2.50000000e-01]]\n"
          ]
        }
      ]
    },
    {
      "cell_type": "code",
      "source": [
        "#Задание 9\n",
        "import numpy as np\n",
        "matrix = np.random.randint(1, 51, size=(4, 4))\n",
        "print(\"Исходная матрица:\")\n",
        "print(matrix)\n",
        "transposed_matrix = matrix.T\n",
        "print(\"\\nТранспонированная матрица:\")\n",
        "print(transposed_matrix)\n",
        "trace = np.trace(matrix)\n",
        "print(f\"\\nСлед матрицы: {trace}\")"
      ],
      "metadata": {
        "colab": {
          "base_uri": "https://localhost:8080/"
        },
        "id": "RtjJTTcT8YLM",
        "outputId": "180bc785-119c-4c3d-f1b6-4ced7db7b6c9"
      },
      "execution_count": 24,
      "outputs": [
        {
          "output_type": "stream",
          "name": "stdout",
          "text": [
            "Исходная матрица:\n",
            "[[31 48 47 14]\n",
            " [35  9 40 37]\n",
            " [ 4 18 17  5]\n",
            " [30 11 41 17]]\n",
            "\n",
            "Транспонированная матрица:\n",
            "[[31 35  4 30]\n",
            " [48  9 18 11]\n",
            " [47 40 17 41]\n",
            " [14 37  5 17]]\n",
            "\n",
            "След матрицы: 74\n"
          ]
        }
      ]
    },
    {
      "cell_type": "code",
      "source": [
        "#Задание 10\n",
        "import numpy as np\n",
        "A = np.array([[2, 3, -1],\n",
        "              [4, -1, 2],\n",
        "              [-3, 5, 4]])\n",
        "B = np.array([5, 6, -2])\n",
        "x = np.linalg.solve(A, B)\n",
        "print(\"Решение системы уравнений:\")\n",
        "print(x)"
      ],
      "metadata": {
        "colab": {
          "base_uri": "https://localhost:8080/"
        },
        "id": "VkBNkC9A-JmX",
        "outputId": "f20e81e5-a06f-477c-a2d9-94eac4e2063a"
      },
      "execution_count": 26,
      "outputs": [
        {
          "output_type": "stream",
          "name": "stdout",
          "text": [
            "Решение системы уравнений:\n",
            "[1.63963964 0.57657658 0.00900901]\n"
          ]
        }
      ]
    },
    {
      "cell_type": "code",
      "source": [
        "#Индивидуальное задание Вариант 10\n",
        "import numpy as np\n",
        "A = np.array([\n",
        "    [30, 35, 25],\n",
        "    [1, 0, -2],\n",
        "    [0, 1, -1]\n",
        "])\n",
        "B = np.array([100, 0, 0])\n",
        "solution = np.linalg.solve(A, B)\n",
        "print(\"Количество литров бензина:\", solution[0])\n",
        "print(\"Количество литров дизеля:\", solution[1])\n",
        "print(\"Количество литров газа:\", solution[2])\n"
      ],
      "metadata": {
        "colab": {
          "base_uri": "https://localhost:8080/"
        },
        "id": "o-8WoXR4_fKE",
        "outputId": "2cf5336c-c2b7-49aa-ef84-ac0d5893c7b2"
      },
      "execution_count": 27,
      "outputs": [
        {
          "output_type": "stream",
          "name": "stdout",
          "text": [
            "Количество литров бензина: 1.6666666666666663\n",
            "Количество литров дизеля: 0.8333333333333334\n",
            "Количество литров газа: 0.8333333333333334\n"
          ]
        }
      ]
    }
  ]
}